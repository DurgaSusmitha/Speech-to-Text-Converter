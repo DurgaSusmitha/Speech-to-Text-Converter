{
 "cells": [
  {
   "cell_type": "code",
   "execution_count": null,
   "id": "0db32c48",
   "metadata": {},
   "outputs": [
    {
     "name": "stdout",
     "output_type": "stream",
     "text": [
      "Entered\n"
     ]
    },
    {
     "name": "stderr",
     "output_type": "stream",
     "text": [
      "Exception in Tkinter callback\n",
      "Traceback (most recent call last):\n",
      "  File \"C:\\Users\\ammua\\anaconda3\\lib\\tkinter\\__init__.py\", line 1892, in __call__\n",
      "    return self.func(*args)\n",
      "  File \"C:\\Users\\ammua\\AppData\\Local\\Temp\\ipykernel_16380\\3359594890.py\", line 126, in extract_1\n",
      "    with sr.AudioFile(filename) as source:\n",
      "  File \"C:\\Users\\ammua\\anaconda3\\lib\\site-packages\\speech_recognition\\__init__.py\", line 241, in __enter__\n",
      "    self.audio_reader = wave.open(self.filename_or_fileobject, \"rb\")\n",
      "  File \"C:\\Users\\ammua\\anaconda3\\lib\\wave.py\", line 509, in open\n",
      "    return Wave_read(f)\n",
      "  File \"C:\\Users\\ammua\\anaconda3\\lib\\wave.py\", line 159, in __init__\n",
      "    f = builtins.open(f, 'rb')\n",
      "FileNotFoundError: [Errno 2] No such file or directory: ''\n"
     ]
    }
   ],
   "source": [
    "from tkinter import *\n",
    "from tkinter import messagebox as mb\n",
    "import speech_recognition as sr\n",
    "from tkinter import filedialog\n",
    "from os import walk\n",
    "import pyttsx3\n",
    "\n",
    "r = sr.Recognizer()\n",
    "\n",
    "Font_tuple = (\"Comic Sans MS\", 20, \"bold\")\n",
    "Font_tuple1 = (\"Times New Roman\", 25, \"bold\",\"italic\")\n",
    "Font_tuple2 = (\"Wide Latin\", 13)\n",
    "Font_tuple3 = (\"Times New Roman\", 15, \"bold\")\n",
    "Font_tuple4 = (\"Times New Roman\", 12)\n",
    "\n",
    "path = 'G:\\Downloads\\Wav_868kb.wav'\n",
    "lang = 'en-IN'\n",
    "def fun():\n",
    "    filename = \"C:\\\\Users\\\\91809\\\\Downloads\\\\soundfiles\"\n",
    "    text1=\"\"\n",
    "    \n",
    "    \n",
    "    def extract():\n",
    "        te =Tk()\n",
    "        text=Text(te)\n",
    "        te.title('Audio')\n",
    "        with sr.AudioFile(filename) as source:\n",
    "            r = sr.Recognizer()\n",
    "            audio_data = r.record(source)\n",
    "            text1 = r.recognize_google(audio_data)\n",
    "        \n",
    "        text= Text(te,height=20,width=50,font=Font_tuple4,fg=\"blue\")\n",
    "        text.pack()\n",
    "        text.insert('1.0',text1)\n",
    "    #te=Tk()\n",
    "    te1= Tk()\n",
    "    #text=Text(te)\n",
    "    #te.title('Audio')\n",
    "    \n",
    "    \n",
    "    te1.geometry(\"620x500\")\n",
    "    te1.configure(background= \"white\")\n",
    "    te_label = Label(te1,text = \"Wav file is getting extracted \",font=Font_tuple3,width = 50,bg=\"white\", height = 1,fg = \"black\")\n",
    "    te_label1 = Label(te1,text=\"Please wait while your file is getting extracted\",font=Font_tuple3,width =50,bg= \"white\",height = 3,fg = \"black\")\n",
    "    #extract()\n",
    "    button_show= Button(te1,text = \"   Show   \",height=2,width=10,bg=\"black\",font=Font_tuple2,fg=\"white\",command = extract)\n",
    "    #txt.set(\"please wait \")\n",
    "    te_label.grid(column = 1, row = 1)\n",
    "    te_label1.grid(column = 1, row = 3)\n",
    "    button_show.grid(column=1, row=5)\n",
    "    \n",
    "def fun1():\n",
    "    text_mic=\"\"\n",
    "    def SpeakText(command):\n",
    "    # Initialize the engine\n",
    "        engine = pyttsx3.init()\n",
    "        engine.say(command)\n",
    "        engine.runAndWait()\n",
    "\n",
    "    def mic_file():\n",
    "        print(\"Entered\")\n",
    "        label_mic1 = Label(window3,text = \"Speak, Voice is getting recorded.....\",width = 45, height = 2,font=Font_tuple,bg=\"white\",fg = \"blue\")\n",
    "        label_mic1.grid(column = 1, row = 6)\n",
    "    def open_mic():\n",
    "        with sr.Microphone() as source:\n",
    "            print(\"Speak Up\")\n",
    "            r.adjust_for_ambient_noise(source, duration=0.2)\n",
    "            print(\"Recognising...\")\n",
    "            audio = r.listen(source)\n",
    "            text_mic = r.recognize_google(audio)\n",
    "                    #text_mic = text_mic.lower()\n",
    "        print(\"Your text is  \"+text_mic)\n",
    "        window4=Tk()\n",
    "        text=Text(window4)\n",
    "        window4.title('Mic')\n",
    "        text= Text(window4,height=20,width=50,font=Font_tuple4,fg=\"blue\")\n",
    "        text.pack()\n",
    "        text.insert('1.0',text_mic)\n",
    "        #SpeakText(text_mic)\n",
    "        \n",
    "        #except sr.RequestError as e:\n",
    "         #   print(\"Could not request results; {0}\".format(e))\n",
    "                        \n",
    "        #except sr.UnknownValueError:\n",
    "         #   print(\"unknown error occured\")\n",
    "\n",
    "    def mic_file():\n",
    "        print(\"Entered\")\n",
    "        label_mic1 = Label(window3,text = \"Speak, Voice is getting recorded.....\",width = 30, height = 2,font=Font_tuple3,bg=\"white\",fg = \"blue\")\n",
    "        label_mic1.grid(column = 1, row = 6)\n",
    "        button_open = Button(window3,text = \"Start\",height=1,width=12,font=Font_tuple4,fg=\"blue\",bg=\"white\",command = open_mic)\n",
    "        button_open.grid(column = 1, row = 10)\n",
    "       \n",
    "        \n",
    "    window3=Tk()\n",
    "    window3.title('Mic Voice extraction')\n",
    "    window3.geometry(\"520x500\")\n",
    "    window3.configure(background = \"white\")\n",
    "    \n",
    "    label_mic = Label(window3,text = \"Speech To Text Convertor \",width = 30, height = 2,font=Font_tuple,fg = \"blue\")\n",
    "    \n",
    "    label_mic.configure(background = \"white\")\n",
    "    button_mic = Button(window3,text = \"Open Mic \",height=2,width=12,font=Font_tuple2,fg=\"blue\",bg=\"white\",command = mic_file)\n",
    "    \n",
    "    button_exit = Button(window3,text = \"Exit\",height=2,width=12,font=Font_tuple2,fg=\"blue\",bg=\"white\",command = exit)\n",
    "\n",
    "    label_mic.grid(column = 1, row = 1)\n",
    "        \n",
    "    button_mic.grid(column = 1, row = 4)\n",
    "    button_exit.grid(column = 1,row = 5)\n",
    "    \n",
    "def fun3():\n",
    "    def browseFiles():\n",
    "        filename = filedialog.askopenfilename(initialdir = \"/\", title = \"Select a File\",filetypes = ((\"Wav files\",\"*.wav*\"),(\"All Files\",\"*.*\")))\n",
    "        #window1.mainloop()\n",
    "        label_file_explorer1 = Label(window1,text=\"File Opened: \"+filename,height=2,width=50,bg=\"white\",font=Font_tuple3,fg = \"blue\")\n",
    "        label_file_explorer1.grid(column = 1, row = 7)\n",
    "        #configure(text=\"File Opened: \"+filename)\n",
    "        label_file_explorer2 = Label(window1,text=\"Please wait while your file is getting extracted \",height=2,width=50,font=Font_tuple3,bg=\"white\",fg = \"blue\")\n",
    "        label_file_explorer2.grid(column = 1, row = 8)\n",
    "        \n",
    "        def extract_1():\n",
    "            window2 =Tk()\n",
    "            window2.title('Extraction')\n",
    "            text=Text(window2)\n",
    "            with sr.AudioFile(filename) as source:\n",
    "                r = sr.Recognizer()\n",
    "                audio_data = r.record(source)\n",
    "                text1 = r.recognize_google(audio_data)\n",
    "            \n",
    "            text= Text(window2,height=20,width=50,font=Font_tuple4,fg=\"blue\")\n",
    "            text.pack()\n",
    "            text.insert('1.0',text1)\n",
    "        button_show= Button(window1,text = \"   Show   \",height=2,width=12,font=Font_tuple2,fg=\"blue\",command = extract_1)\n",
    "        button_show.grid(column=1,row=10)\n",
    "        \n",
    "    # Create the root window\n",
    "    window1 = Tk()\n",
    "    window1.title('File Explorer')\n",
    "    window1.geometry(\"700x720\")\n",
    "    window1.configure(background = \"white\")\n",
    "    \n",
    "    label_file_explorer = Label(window1,text = \"File Explorer using Tkinter\",width = 45, height = 2,font=Font_tuple,fg = \"blue\")\n",
    "    label_file_explorer.configure(background = \"white\")\n",
    "    button_explore = Button(window1,text = \"Browse Files\",height=2,width=12,font=Font_tuple2,fg=\"blue\",command = browseFiles)\n",
    "    \n",
    "    button_exit = Button(window1,text = \"Exit\",height=2,width=12,font=Font_tuple2,fg=\"blue\",command = exit)\n",
    "\n",
    "    label_file_explorer.grid(column = 1, row = 1)\n",
    "    \n",
    "    \n",
    "    button_explore.grid(column = 1, row = 4)\n",
    "    button_exit.grid(column = 1,row = 5)\n",
    "    \n",
    "window =Tk()\n",
    "window.title('Index')\n",
    "window.geometry(\"1000x1000\")\n",
    "window.config(background= \"white\")\n",
    "index_label = Label(window,text = \"Click the button to make choice\",width = 50, height = 3,bg=\"white\",font=Font_tuple1,fg = \"blue\")\n",
    "button_audio2=Button(window,text=\"Device Files\",bg=\"black\",height=3,width=45,font=Font_tuple2,fg=\"white\",command= fun3)\n",
    "button_mic=Button(window,text=\"Using Mic\",bg=\"black\",height=3,width=45,font=Font_tuple2,fg=\"white\",command=fun1)\n",
    "\n",
    "index_label.grid(column=1,row=2)\n",
    "button_audio2.grid(column = 1, row = 8)\n",
    "button_mic.grid(column = 1,row = 10)\n",
    "window.mainloop()\n"
   ]
  },
  {
   "cell_type": "code",
   "execution_count": 1,
   "id": "14a5187d",
   "metadata": {},
   "outputs": [
    {
     "name": "stdout",
     "output_type": "stream",
     "text": [
      "Requirement already satisfied: Pyaudio in c:\\users\\ammua\\anaconda3\\lib\\site-packages (0.2.13)\n",
      "Note: you may need to restart the kernel to use updated packages.\n"
     ]
    }
   ],
   "source": [
    "pip install Pyaudio"
   ]
  },
  {
   "cell_type": "code",
   "execution_count": 2,
   "id": "4ae0bf1d",
   "metadata": {},
   "outputs": [
    {
     "name": "stdout",
     "output_type": "stream",
     "text": [
      "Requirement already satisfied: SpeechRecognition in c:\\users\\ammua\\anaconda3\\lib\\site-packages (3.10.0)\n",
      "Requirement already satisfied: requests>=2.26.0 in c:\\users\\ammua\\anaconda3\\lib\\site-packages (from SpeechRecognition) (2.28.1)\n",
      "Requirement already satisfied: certifi>=2017.4.17 in c:\\users\\ammua\\anaconda3\\lib\\site-packages (from requests>=2.26.0->SpeechRecognition) (2022.9.14)\n",
      "Requirement already satisfied: urllib3<1.27,>=1.21.1 in c:\\users\\ammua\\anaconda3\\lib\\site-packages (from requests>=2.26.0->SpeechRecognition) (1.26.11)\n",
      "Requirement already satisfied: charset-normalizer<3,>=2 in c:\\users\\ammua\\anaconda3\\lib\\site-packages (from requests>=2.26.0->SpeechRecognition) (2.0.4)\n",
      "Requirement already satisfied: idna<4,>=2.5 in c:\\users\\ammua\\anaconda3\\lib\\site-packages (from requests>=2.26.0->SpeechRecognition) (3.3)\n",
      "Note: you may need to restart the kernel to use updated packages.\n"
     ]
    }
   ],
   "source": [
    "pip install SpeechRecognition"
   ]
  },
  {
   "cell_type": "code",
   "execution_count": 3,
   "id": "834e553b",
   "metadata": {},
   "outputs": [
    {
     "name": "stdout",
     "output_type": "stream",
     "text": [
      "Note: you may need to restart the kernel to use updated packages.\n"
     ]
    },
    {
     "name": "stderr",
     "output_type": "stream",
     "text": [
      "ERROR: Invalid requirement: 'google-api-python-client.'\n"
     ]
    }
   ],
   "source": [
    "pip install google-api-python-client."
   ]
  },
  {
   "cell_type": "code",
   "execution_count": 4,
   "id": "664bf4b8",
   "metadata": {},
   "outputs": [
    {
     "name": "stdout",
     "output_type": "stream",
     "text": [
      "Requirement already satisfied: pyttsx3 in c:\\users\\ammua\\anaconda3\\lib\\site-packages (2.90)\n",
      "Requirement already satisfied: comtypes in c:\\users\\ammua\\anaconda3\\lib\\site-packages (from pyttsx3) (1.1.10)\n",
      "Requirement already satisfied: pypiwin32 in c:\\users\\ammua\\anaconda3\\lib\\site-packages (from pyttsx3) (223)\n",
      "Requirement already satisfied: pywin32 in c:\\users\\ammua\\anaconda3\\lib\\site-packages (from pyttsx3) (302)\n",
      "Note: you may need to restart the kernel to use updated packages.\n"
     ]
    }
   ],
   "source": [
    "pip install pyttsx3"
   ]
  },
  {
   "cell_type": "code",
   "execution_count": null,
   "id": "5f011e37",
   "metadata": {},
   "outputs": [],
   "source": []
  }
 ],
 "metadata": {
  "kernelspec": {
   "display_name": "Python 3 (ipykernel)",
   "language": "python",
   "name": "python3"
  },
  "language_info": {
   "codemirror_mode": {
    "name": "ipython",
    "version": 3
   },
   "file_extension": ".py",
   "mimetype": "text/x-python",
   "name": "python",
   "nbconvert_exporter": "python",
   "pygments_lexer": "ipython3",
   "version": "3.9.13"
  }
 },
 "nbformat": 4,
 "nbformat_minor": 5
}
